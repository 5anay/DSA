{
 "cells": [
  {
   "cell_type": "code",
   "execution_count": 19,
   "id": "da73f0e5-b593-497e-9323-0fd1c159cf98",
   "metadata": {},
   "outputs": [],
   "source": [
    "# Data Structures and Algorithms \n",
    "arr = [2,6,7,5,4,8,3,9,1,0]"
   ]
  },
  {
   "cell_type": "code",
   "execution_count": 20,
   "id": "96d178d6-5621-49d6-923a-6dc55302ebb2",
   "metadata": {},
   "outputs": [
    {
     "name": "stdout",
     "output_type": "stream",
     "text": [
      "[0, 1, 2, 3, 4, 5, 6, 7, 8, 9]\n"
     ]
    }
   ],
   "source": [
    "# Insertion Sort: Like sorting cards that are in your hand as you pick them up from a table\n",
    "def insertion_sort(arr):\n",
    "    for j in range(0, len(arr)):\n",
    "        key = arr[j]\n",
    "        i = j - 1\n",
    "        while i >= 0 and arr[i] > key:\n",
    "            arr[i+1] = arr[i]\n",
    "            i = i - 1\n",
    "        arr[i+1] = key\n",
    "\n",
    "    print(arr)\n",
    "\n",
    "insertion_sort(arr)"
   ]
  },
  {
   "cell_type": "code",
   "execution_count": 21,
   "id": "2ceb0a74-bd3b-4085-b4a4-dcb83ba7cbce",
   "metadata": {},
   "outputs": [
    {
     "name": "stdout",
     "output_type": "stream",
     "text": [
      "[0, 1, 2, 3, 4, 5, 6, 7, 8, 9]\n"
     ]
    }
   ],
   "source": [
    "#Selection Sort: \n",
    "def selection_sort(arr):\n",
    "    for i in range(len(arr)):\n",
    "        min_index = i\n",
    "            #Find the next minimum element in the rest of the sorting array\n",
    "        for j in range(i+1, len(arr)):\n",
    "            if arr[j] < arr[min_index]:\n",
    "                min_index = j\n",
    "\n",
    "        arr[i], arr[min_index] = arr[min_index], arr[i]\n",
    "\n",
    "    print(arr)\n",
    "\n",
    "                            \n",
    "selection_sort(arr)"
   ]
  },
  {
   "cell_type": "code",
   "execution_count": 22,
   "id": "cf4385b8-2d9c-4eae-8b44-b4c38077d57f",
   "metadata": {},
   "outputs": [
    {
     "name": "stdout",
     "output_type": "stream",
     "text": [
      "[0, 1, 2, 3, 4, 5, 6, 7, 8, 9]\n"
     ]
    }
   ],
   "source": [
    "#Bubble Sort: Like bubbles, the larger values rise to the top, starting from the lowest index you move it down, moving the larger values up\n",
    "def bubble_sort(arr):\n",
    "    n = len(arr)\n",
    "    for i in range(1, n):\n",
    "        for j in range(n-1,i-1,-1): # Starts at n-1 (since Python is 0-indexed), goes down to i (inclusive), stepping by -1\n",
    "            if arr[j] < arr[j-1]:\n",
    "                arr[j], arr[j-1] = arr[j-1], arr[j]\n",
    "\n",
    "    print(arr)\n",
    "\n",
    "bubble_sort(arr)"
   ]
  },
  {
   "cell_type": "code",
   "execution_count": 24,
   "id": "818fad72-51c4-4abf-9725-6c4e825a6582",
   "metadata": {},
   "outputs": [
    {
     "name": "stdout",
     "output_type": "stream",
     "text": [
      "[0, 1, 2, 3, 4, 5, 6, 7, 8, 9]\n"
     ]
    }
   ],
   "source": [
    "#Merge Sort: \n",
    "\n",
    "\n",
    "def mergeSort(arr):\n",
    "    if len(arr) > 1:\n",
    "\n",
    "        r = len(arr)//2\n",
    "        leftArr = arr[:r]\n",
    "        rightArr = arr[r:]\n",
    "\n",
    "        mergeSort(leftArr)\n",
    "        mergeSort(rightArr)\n",
    "\n",
    "        i = j = k = 0\n",
    "\n",
    "        while i < len(leftArr) and j < len(rightArr):\n",
    "            if leftArr[i] < rightArr[j]:\n",
    "                arr[k] = leftArr[i]\n",
    "                i += 1\n",
    "            else:\n",
    "                arr[k] = rightArr[j]\n",
    "                j += 1\n",
    "            k += 1\n",
    "    \n",
    "        while i < len(leftArr):\n",
    "            arr[k] = leftArr[i]\n",
    "            i += 1\n",
    "            k += 1\n",
    "            \n",
    "        while j < len(rightArr):\n",
    "            arr[k] = rightArr[j]\n",
    "            j += 1\n",
    "            k += 1\n",
    "\n",
    "mergeSort(arr)\n",
    "print(arr)"
   ]
  },
  {
   "cell_type": "code",
   "execution_count": 25,
   "id": "d319d4d0-3756-4eb2-89c7-573a0ad94150",
   "metadata": {},
   "outputs": [
    {
     "name": "stdout",
     "output_type": "stream",
     "text": [
      "[0, 1, 2, 3, 4, 5, 6, 7, 8, 9]\n"
     ]
    }
   ],
   "source": [
    "#Quick Sort\n",
    "def partition(A,l,h):\n",
    "    pivot = A[l]\n",
    "    i = l\n",
    "    j = h\n",
    "    while(i < j):\n",
    "        while(A[i] <= pivot):\n",
    "            i = i + 1 #i++ before the first check of A[i] <= pivot (do i++ while)\n",
    "            while(A[j]>pivot):\n",
    "                j = j - 1 #j-- before the first check of A[j] > pivot (do i++ while)\n",
    "            if(i<j):\n",
    "                A[i], A[j] = A[j], A[i]\n",
    "        A[l], A[j] = A[j], A[l]\n",
    "        return j\n",
    "\n",
    "def quick_sort(A,l,h):\n",
    "    if(l<h):\n",
    "        j = partition(A,l,h)\n",
    "        quick_sort(A,l,j)\n",
    "        quick_sort(A,j+1, h)\n",
    "    #print(A)\n",
    "    \n",
    "quick_sort(arr, 0, (len(arr)-1))\n",
    "print(arr)"
   ]
  },
  {
   "cell_type": "code",
   "execution_count": 27,
   "id": "d054a061-6572-4e84-9a61-cf40ee6f9daa",
   "metadata": {},
   "outputs": [],
   "source": [
    "#Heap Sort\n",
    "def heapify(arr,l,r):\n",
    "    print(arr)\n",
    "\n",
    "def heap_sort(arr):\n",
    "    print(arr)"
   ]
  },
  {
   "cell_type": "code",
   "execution_count": 28,
   "id": "8e984dbb-60ff-401b-aabc-cf25aff9836f",
   "metadata": {},
   "outputs": [
    {
     "name": "stdout",
     "output_type": "stream",
     "text": [
      "[0, 1, 2, 3, 4, 5, 6, 7, 8, 9]\n"
     ]
    }
   ],
   "source": [
    "#Counting Sort\n",
    "def counting_sort(A, k):\n",
    "    #k = the largest element in A\n",
    "    #B holds the sorted output \n",
    "    #C holds temporary working storage\n",
    "    B = [0] * len(A)\n",
    "    C = [0] * (k+1)\n",
    "    \n",
    "    #C[i] holds the number of input elements equal to i\n",
    "    #C[0] holds the amount of 0s present in A\n",
    "    #C[4] holds the amount of 4s present in A\n",
    "    #for each integer i = 0,1,...,k \n",
    "    #where k is the largest value of the input array\n",
    "    \n",
    "    for j in range(len(A)):\n",
    "        \n",
    "        C[A[j]-1] = C[A[j]-1] + 1\n",
    "\n",
    "    #C[i] now contains the number of elements less than \n",
    "    #or equal to i\n",
    "    #C[3] is equal to amount of 0s,1s,2s,3s present in A\n",
    "    for i in range(1, len(C)):\n",
    "        C[i] = C[i] + C[i-1]\n",
    "        \n",
    "    #for j in range(n-1,i-1,-1): # Starts at n-1 (since Python is 0-indexed), \n",
    "    #goes down to i (inclusive), stepping by -1\n",
    "    #Place each element A[j] into its correct sorted position in the output arrayB\n",
    "    #Because the elements might not be distinct, we decrement C[A[j]]ach time we place a value \n",
    "    #A[j] into the B array. Decrementing C[A[j]] causes the next input element with a value \n",
    "    #equal to A[j] if one exists, to go to the position immediately before A[j] in the output array.\n",
    "    \n",
    "    for j in range(0, len(B)):\n",
    "        B[ C[ A[j] ] - 1] = A[j]\n",
    "        C[ A[j] ] -= 1\n",
    "    \n",
    "    print(B)\n",
    "        \n",
    "\n",
    "counting_sort(arr, max(arr))"
   ]
  },
  {
   "cell_type": "code",
   "execution_count": 29,
   "id": "7c88f093-8a16-45a0-9258-b757c35d976d",
   "metadata": {},
   "outputs": [
    {
     "name": "stdout",
     "output_type": "stream",
     "text": [
      "[0, 1, 2, 3, 4, 5, 6, 7, 8, 9]\n"
     ]
    },
    {
     "data": {
      "text/plain": [
       "[0, 1, 2, 3, 4, 5, 6, 7, 8, 9]"
      ]
     },
     "execution_count": 29,
     "metadata": {},
     "output_type": "execute_result"
    }
   ],
   "source": [
    "#Stable Counting Sort\n",
    "def stable_counting_sort(A, k):\n",
    "    B = [0] * len(A)\n",
    "    C = [0] * 10\n",
    "    \n",
    "    for j in range(len(A)):\n",
    "        digit = (A[j] // 10**k) % 10\n",
    "        C[digit] += 1\n",
    "\n",
    "    for i in range(1, len(C)):\n",
    "        C[i] = C[i] + C[i-1]\n",
    "\n",
    "    for j in range(len(A)-1, -1, -1):\n",
    "        digit = (A[j] // 10**k) % 10\n",
    "        B[C[digit] - 1] = A[j]\n",
    "        C[digit] -= 1\n",
    "    \n",
    "    print(B)\n",
    "    return(B)\n",
    "\n",
    "stable_counting_sort(arr, max(arr))"
   ]
  },
  {
   "cell_type": "code",
   "execution_count": 30,
   "id": "27c894ba-19a0-463e-b9fe-4a06e6337ec0",
   "metadata": {},
   "outputs": [
    {
     "name": "stdout",
     "output_type": "stream",
     "text": [
      "[0, 1, 2, 3, 4, 5, 6, 7, 8, 9]\n",
      "[0, 1, 2, 3, 4, 5, 6, 7, 8, 9]\n",
      "[0, 1, 2, 3, 4, 5, 6, 7, 8, 9]\n"
     ]
    }
   ],
   "source": [
    "#Radix Sort\n",
    "def radix_sort(A):\n",
    "    digit = max(A)\n",
    "    count = 0\n",
    "\n",
    "    while(digit > 0):\n",
    "        digit = digit//10\n",
    "        count = count + 1\n",
    "        \n",
    "    for i in range(count):\n",
    "        A = stable_counting_sort(A,i)\n",
    "        print(A)\n",
    "\n",
    "    print(A)\n",
    "\n",
    "radix_sort(arr)"
   ]
  },
  {
   "cell_type": "code",
   "execution_count": null,
   "id": "f347422b-a224-4c22-957b-30a26b238025",
   "metadata": {},
   "outputs": [],
   "source": [
    "#Tail Recursion vs Non-Tail recursion\n",
    "def fact(n):\n",
    "    if n==0:\n",
    "        return 1\n",
    "    else:\n",
    "        return n*fact(n-1)\n",
    "\n",
    "def fact_tail(n, accumulator=1):\n",
    "    print(accumulator)\n",
    "    if n == 0:\n",
    "        return 1\n",
    "    else:\n",
    "        return fact_tail(n-1, accumulator*n)\n",
    "\n",
    "fact_tail(1)"
   ]
  }
 ],
 "metadata": {
  "kernelspec": {
   "display_name": "Python 3 (ipykernel)",
   "language": "python",
   "name": "python3"
  },
  "language_info": {
   "codemirror_mode": {
    "name": "ipython",
    "version": 3
   },
   "file_extension": ".py",
   "mimetype": "text/x-python",
   "name": "python",
   "nbconvert_exporter": "python",
   "pygments_lexer": "ipython3",
   "version": "3.12.1"
  }
 },
 "nbformat": 4,
 "nbformat_minor": 5
}
